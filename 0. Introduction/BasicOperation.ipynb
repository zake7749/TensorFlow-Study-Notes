{
 "cells": [
  {
   "cell_type": "markdown",
   "metadata": {
    "collapsed": true
   },
   "source": [
    "# Tensorflow 基本操作"
   ]
  },
  {
   "cell_type": "code",
   "execution_count": 1,
   "metadata": {
    "collapsed": false
   },
   "outputs": [],
   "source": [
    "import tensorflow as tf\n",
    "import numpy as np\n",
    "random_seed = 42"
   ]
  },
  {
   "cell_type": "markdown",
   "metadata": {},
   "source": [
    "## 創建常數"
   ]
  },
  {
   "cell_type": "code",
   "execution_count": 2,
   "metadata": {},
   "outputs": [],
   "source": [
    "tf_string = tf.constant(\"Tensorflow\")\n",
    "\n",
    "# 可以精確描述這個變數的 dtype, like numpy\n",
    "tf_int =  tf.constant(42, dtype='int32')\n",
    "tf_float = tf.constant(42.0 ,dtype='float32')\n",
    "tf_matrix = tf.constant(np.array([1.3, 1, 4, 23]))\n",
    "tf_matrix2 = tf.constant([[1,2],[3,4]])\n",
    "\n",
    "# 我們也可以給變數名字\n",
    "tf_my_int = tf.constant(42, name='TheFinalAnswer')"
   ]
  },
  {
   "cell_type": "markdown",
   "metadata": {},
   "source": [
    "## 創建變數"
   ]
  },
  {
   "cell_type": "code",
   "execution_count": 3,
   "metadata": {},
   "outputs": [],
   "source": [
    "a = tf.Variable(tf_int + tf_int)\n",
    "b = tf.Variable(0)\n",
    "c = tf.Variable(tf.random_uniform([1,2], seed=random_seed))"
   ]
  },
  {
   "cell_type": "markdown",
   "metadata": {},
   "source": [
    "## 創建 Sesseion\n",
    "Tensorflow 中所有的操作都只是個預定義的圖，要讓這個圖動起來必須由　Session 去　run 一下。\n"
   ]
  },
  {
   "cell_type": "code",
   "execution_count": 4,
   "metadata": {},
   "outputs": [],
   "source": [
    "sess = tf.Session()"
   ]
  },
  {
   "cell_type": "markdown",
   "metadata": {},
   "source": [
    "## 串接節點\n",
    "\n",
    "如同語法樹一半，我們可以將 operation 考慮為節點，每個節點如果有未知值，就會用 dfs 的型式去查找未知值，再返回給頂層節點"
   ]
  },
  {
   "cell_type": "code",
   "execution_count": 5,
   "metadata": {},
   "outputs": [],
   "source": [
    "add = a + a # the same as add = tf.add(a,b)\n",
    "mul = c * c"
   ]
  },
  {
   "cell_type": "markdown",
   "metadata": {},
   "source": [
    "## 透過 Session 執行 Operation\n",
    "\n",
    "### 在一切開始前，記得先初始化所有變數節點\n",
    "務必記得，有變數，就要做這一步"
   ]
  },
  {
   "cell_type": "code",
   "execution_count": 6,
   "metadata": {},
   "outputs": [],
   "source": [
    "sess.run(tf.global_variables_initializer())"
   ]
  },
  {
   "cell_type": "markdown",
   "metadata": {},
   "source": [
    "###  計算我們之前的節點"
   ]
  },
  {
   "cell_type": "code",
   "execution_count": 10,
   "metadata": {},
   "outputs": [
    {
     "name": "stdout",
     "output_type": "stream",
     "text": [
      "[  1.3   1.    4.   23. ]\n168\n[[ 0.90682095  0.45888126]]\n336\n"
     ]
    }
   ],
   "source": [
    "constant_mat = sess.run(tf_matrix)\n",
    "add_result = sess.run(add) # 84 + 84\n",
    "mul_result = sess.run(mul) # c * c\n",
    "\n",
    "print(constant_mat)\n",
    "print(add_result)\n",
    "print(mul_result)\n",
    "\n",
    "add_after_add = add + add \n",
    "add_after_add_result = sess.run(add_after_add)\n",
    "'''\n",
    "add_after_add 的值來自追蹤 add 的值，因為 add 的值未知，所以 add 又會去追蹤 a 的值，因為 a 的值已知 (84)\n",
    "所以我們會從 a bottom up valute 回來\n",
    "                   add_after_add \n",
    "                            |\n",
    "                  -------------------\n",
    "                  |                      |\n",
    "                add                  add\n",
    "                 |                       |\n",
    "            --------                --------\n",
    "            |        |                |        |\n",
    "           a         a              a        a\n",
    "'''\n",
    "print(add_after_add_result)"
   ]
  },
  {
   "cell_type": "code",
   "execution_count": null,
   "metadata": {},
   "outputs": [],
   "source": [
    ""
   ]
  }
 ],
 "metadata": {
  "kernelspec": {
   "display_name": "Python 2",
   "language": "python",
   "name": "python2"
  },
  "language_info": {
   "codemirror_mode": {
    "name": "ipython",
    "version": 2.0
   },
   "file_extension": ".py",
   "mimetype": "text/x-python",
   "name": "python",
   "nbconvert_exporter": "python",
   "pygments_lexer": "ipython2",
   "version": "2.7.6"
  }
 },
 "nbformat": 4,
 "nbformat_minor": 0
}